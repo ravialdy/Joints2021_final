{
 "cells": [
  {
   "cell_type": "markdown",
   "metadata": {
    "id": "X-bt-y3QfFhQ"
   },
   "source": [
    "# Load Dataset!"
   ]
  },
  {
   "cell_type": "code",
   "execution_count": 1,
   "metadata": {
    "id": "z0ZM6l8FfFhr"
   },
   "outputs": [],
   "source": [
    "#Import library yang diperlukan untuk load data\n",
    "import numpy as np\n",
    "import pandas as pd"
   ]
  },
  {
   "cell_type": "code",
   "execution_count": 2,
   "metadata": {
    "colab": {
     "base_uri": "https://localhost:8080/"
    },
    "id": "jlVadKbpincd",
    "outputId": "5e466fb5-a4e0-4324-8418-c3e5749f72f8"
   },
   "outputs": [],
   "source": [
    "#from google.colab import drive\n",
    "# Mount Google Drive\n",
    "#drive.mount('/content/gdrive')"
   ]
  },
  {
   "cell_type": "code",
   "execution_count": null,
   "metadata": {
    "colab": {
     "base_uri": "https://localhost:8080/",
     "height": 218
    },
    "id": "lrtPtH7QfFht",
    "outputId": "2d66ce7b-be3c-426a-9f63-997b7e75fded"
   },
   "outputs": [],
   "source": [
    "#Load data latih (training data)!\n",
    "df_train = pd.read_pickle('C:/Users/Ravialdy/Pictures/Certificate Data Science/train.pkl')\n",
    "\n",
    "#Lihat sekilas data latih nya!\n",
    "df_train.head()"
   ]
  },
  {
   "cell_type": "code",
   "execution_count": null,
   "metadata": {
    "colab": {
     "base_uri": "https://localhost:8080/"
    },
    "id": "zaT5KhPmit0M",
    "outputId": "da617be9-19cd-4705-8267-fad62bef47fb"
   },
   "outputs": [],
   "source": [
    "#Cek struktur bentuk data latih!\n",
    "df_train.shape"
   ]
  },
  {
   "cell_type": "code",
   "execution_count": null,
   "metadata": {
    "colab": {
     "base_uri": "https://localhost:8080/"
    },
    "id": "pecp2N7vXg6p",
    "outputId": "92340246-0336-454f-c9d2-d001d0a6af5b"
   },
   "outputs": [],
   "source": [
    "df_train.info()"
   ]
  },
  {
   "cell_type": "code",
   "execution_count": null,
   "metadata": {
    "colab": {
     "base_uri": "https://localhost:8080/",
     "height": 218
    },
    "id": "lzd4UFYsfFhx",
    "outputId": "92fd93b4-6af1-46a0-c22a-f498b146b98c"
   },
   "outputs": [],
   "source": [
    "#Load data uji (testing data)!\n",
    "df_test = pd.read_pickle('C:/Users/Ravialdy/Pictures/Certificate Data Science/train.pkl')\n",
    "\n",
    "#Lihat sekilas data uji nya!\n",
    "df_test.head()"
   ]
  },
  {
   "cell_type": "code",
   "execution_count": null,
   "metadata": {
    "colab": {
     "base_uri": "https://localhost:8080/"
    },
    "id": "ZoLTft05fFhz",
    "outputId": "7078eda2-7254-400a-f351-02927df84505"
   },
   "outputs": [],
   "source": [
    "#Cek struktur bentuk data uji!\n",
    "df_test.shape"
   ]
  },
  {
   "cell_type": "markdown",
   "metadata": {
    "id": "2BMYPyj9fFh0"
   },
   "source": [
    "# Exploratory Data Analysis!"
   ]
  },
  {
   "cell_type": "markdown",
   "metadata": {
    "id": "9W3GAZl5fFh2"
   },
   "source": [
    "## 1a. Menangani missing value pada data!"
   ]
  },
  {
   "cell_type": "code",
   "execution_count": null,
   "metadata": {
    "colab": {
     "base_uri": "https://localhost:8080/"
    },
    "id": "cZvTImSufFh2",
    "outputId": "ee556405-1e45-46d6-f83c-b0026e96073f"
   },
   "outputs": [],
   "source": [
    "#Cek apakah ada missing value atau tidak!\n",
    "df_train.isnull().sum()"
   ]
  },
  {
   "cell_type": "code",
   "execution_count": null,
   "metadata": {
    "colab": {
     "base_uri": "https://localhost:8080/",
     "height": 438
    },
    "id": "aiDbtz2EfFh3",
    "outputId": "48fe749c-3747-45dd-e687-d397c91ba5ce"
   },
   "outputs": [],
   "source": [
    "#Presentase missing value\n",
    "total_missing_values = df_train.isnull().sum().sort_values(ascending = False)\n",
    "total_non_missing_values = df_train.count().sort_values(ascending = False)\n",
    "percent_missing_values = total_missing_values/(total_non_missing_values+total_missing_values)*100\n",
    "df_train_missing = pd.concat([total_missing_values, total_non_missing_values, percent_missing_values], axis = 1, keys = ['Total Missing Values',\n",
    "                                                                                                                        'Total Non Missing Values',\n",
    "                                                                                                                        'Presentase Missing Values'])\n",
    "df_train_missing.head(20)"
   ]
  },
  {
   "cell_type": "code",
   "execution_count": null,
   "metadata": {
    "colab": {
     "base_uri": "https://localhost:8080/"
    },
    "id": "KdNYHyP-mKus",
    "outputId": "dcc8d01b-d5b0-4024-82b6-1abb9b9833e2"
   },
   "outputs": [],
   "source": [
    "df_train.columns"
   ]
  },
  {
   "cell_type": "code",
   "execution_count": null,
   "metadata": {
    "colab": {
     "base_uri": "https://localhost:8080/"
    },
    "id": "VUZIlv3smShO",
    "outputId": "f2c855a8-14de-46e6-f4d4-6311d321631b"
   },
   "outputs": [],
   "source": [
    "df_train.dtypes"
   ]
  },
  {
   "cell_type": "markdown",
   "metadata": {
    "id": "e5bt80wko5bJ"
   },
   "source": [
    "## Koreksi Tipe Data Variabel"
   ]
  },
  {
   "cell_type": "code",
   "execution_count": null,
   "metadata": {
    "id": "msR_Gronn5Cv"
   },
   "outputs": [],
   "source": [
    "df_train['Target'] = df_train['Target'].astype('category')\n",
    "df_train['Tipe_Kendaraan'] = df_train['Tipe_Kendaraan'].astype('category')\n",
    "df_train['Tipe_Tujuan'] = df_train['Tipe_Tujuan'].astype('category')\n",
    "df_train['Gender'] = df_train['Gender'].astype('category')\n",
    "\n",
    "df_test['Tipe_Kendaraan'] = df_test['Tipe_Kendaraan'].astype('category')\n",
    "df_test['Tipe_Tujuan'] = df_test['Tipe_Tujuan'].astype('category')\n",
    "df_test['Gender'] = df_test['Gender'].astype('category')"
   ]
  },
  {
   "cell_type": "code",
   "execution_count": null,
   "metadata": {
    "id": "5qbbCqC24fSz"
   },
   "outputs": [],
   "source": [
    "df_train['Pembatalan_Sebulan_Terakhir'] = pd.to_numeric(df_train['Pembatalan_Sebulan_Terakhir'])\n",
    "df_test['Pembatalan_Sebulan_Terakhir'] = pd.to_numeric(df_test['Pembatalan_Sebulan_Terakhir'])"
   ]
  },
  {
   "cell_type": "code",
   "execution_count": null,
   "metadata": {
    "id": "_XnAduyOfFh8"
   },
   "outputs": [],
   "source": [
    "#Pisah data latih ke kelompok tipe data numerik dan object!\n",
    "tipe_numerik = ['Jarak_Perjalanan', 'Pelanggan_Sejak_Bulan',\n",
    "       'Indeks_Gaya_Hidup', 'Rating_Pelanggan',\n",
    "        'Encode_1', 'Encode_2', 'Encode_3',\n",
    "        'Target']\n",
    "tipe_object = ['Gender', 'Tipe_Kendaraan' , 'Tipe_Tujuan']"
   ]
  },
  {
   "cell_type": "code",
   "execution_count": null,
   "metadata": {
    "colab": {
     "base_uri": "https://localhost:8080/",
     "height": 258
    },
    "id": "whhCsi1DfFh9",
    "outputId": "ca52fb83-51f7-4dd0-bcbc-dd918b8a15e7"
   },
   "outputs": [],
   "source": [
    "#Statistik sederhana data latih untuk kelompok numerik!\n",
    "df_train[tipe_numerik].describe().transpose()"
   ]
  },
  {
   "cell_type": "code",
   "execution_count": null,
   "metadata": {
    "colab": {
     "base_uri": "https://localhost:8080/",
     "height": 138
    },
    "id": "X8fPYpMRfFh_",
    "outputId": "ffcad149-93fd-4ec6-835d-76c446b1b6e7"
   },
   "outputs": [],
   "source": [
    "#Statistik sederhana data latih untuk kelompok kategorik!\n",
    "df_train[tipe_object].describe().transpose()"
   ]
  },
  {
   "cell_type": "markdown",
   "metadata": {
    "id": "Rjn7s2v9P7Ms"
   },
   "source": [
    "## Distriusi Variabel Target!"
   ]
  },
  {
   "cell_type": "code",
   "execution_count": null,
   "metadata": {
    "colab": {
     "base_uri": "https://localhost:8080/",
     "height": 624
    },
    "id": "Hgmellg9P-od",
    "outputId": "98633dec-0a81-454b-9502-b9a849937ae3"
   },
   "outputs": [],
   "source": [
    "import matplotlib.pyplot as plt\n",
    "import seaborn as sns\n",
    "plt.subplot(1, 2, 1)\n",
    "sns.countplot(df_train['Target'])\n",
    "plt.title(\"Distribusi Fitur Target!\")\n",
    "\n",
    "plt.subplot(1,2,2)\n",
    "count = df_train['Target'].value_counts()\n",
    "count.plot.pie(autopct = '%1.1f%%', figsize = (10,7),explode = [0,0.1, 0.2],title = \"pie chart persentase nilai pada fitur target\")\n",
    "\n",
    "plt.title('Distribusi Variabel Target')\n",
    "plt.show()\n",
    "\n",
    "print( \"Persentase nilai pada fitur target\\n\")\n",
    "print(df_train['Target'].value_counts()/len(df_train)*100)"
   ]
  },
  {
   "cell_type": "code",
   "execution_count": null,
   "metadata": {
    "colab": {
     "base_uri": "https://localhost:8080/",
     "height": 343
    },
    "id": "CQnlIe9FFCRw",
    "outputId": "9cac3e8f-6ff8-4074-8c4d-82c10e37dc86"
   },
   "outputs": [],
   "source": [
    "#Histogram fitur Umur\n",
    "# Set the style of plots\n",
    "plt.style.use('fivethirtyeight')\n",
    "\n",
    "# Plot distribusi umur pelanggan\n",
    "plt.hist(df_train['Jarak_Perjalanan'], edgecolor = 'k', bins = 25)\n",
    "plt.title('Jarak Perjalanan'); plt.xlabel('Jarak Perjalanan'); plt.ylabel('Banyaknya pelanggan')"
   ]
  },
  {
   "cell_type": "code",
   "execution_count": null,
   "metadata": {
    "colab": {
     "base_uri": "https://localhost:8080/",
     "height": 442
    },
    "id": "mRp3NZ-VGTEt",
    "outputId": "1df6ac77-6468-4674-d119-9ff95ca6c87d"
   },
   "outputs": [],
   "source": [
    "#Plot distribusi Jarak\n",
    "plt.figure(figsize = (8, 6))\n",
    "\n",
    "# plot KDE untuk hubungan umur pelanggan dengan variabel target\n",
    "sns.kdeplot(df_train.loc[df_train['Target'] == 1, 'Jarak_Perjalanan'] , label = 'Target == 1')\n",
    "\n",
    "# KDE plot of loans which were not repaid on time\n",
    "sns.kdeplot(df_train.loc[df_train['Target'] == 2, 'Jarak_Perjalanan'], label = 'Target == 2')\n",
    "\n",
    "# KDE plot of loans which were not repaid on time\n",
    "sns.kdeplot(df_train.loc[df_train['Target'] == 3, 'Jarak_Perjalanan'], label = 'Target == 3')\n",
    "\n",
    "# Labeling of plot\n",
    "plt.xlabel('Jarak_Perjalanan'); plt.ylabel('Kepadatan'); plt.title('Distribusi Jarak_Perjalanan')\n",
    "\n",
    "plt.legend()\n",
    "plt.show()"
   ]
  },
  {
   "cell_type": "code",
   "execution_count": null,
   "metadata": {
    "colab": {
     "base_uri": "https://localhost:8080/",
     "height": 343
    },
    "id": "VN8K-90OrUBr",
    "outputId": "c44ab1fd-a493-4b68-9c91-076004d44361"
   },
   "outputs": [],
   "source": [
    "#Histogram fitur Umur\n",
    "# Set the style of plots\n",
    "plt.style.use('fivethirtyeight')\n",
    "\n",
    "# Plot distribusi umur pelanggan\n",
    "plt.hist(df_train['Pembatalan_Sebulan_Terakhir'], edgecolor = 'k', bins = 25)\n",
    "plt.title('Pembatalan_Sebulan_Terakhir'); plt.xlabel('Pembatalan_Sebulan_Terakhir'); plt.ylabel('Banyaknya pelanggan')"
   ]
  },
  {
   "cell_type": "code",
   "execution_count": null,
   "metadata": {
    "colab": {
     "base_uri": "https://localhost:8080/",
     "height": 442
    },
    "id": "OTlAVFLN5CJp",
    "outputId": "331739a6-a303-475b-9b63-f2303f8f0ed5"
   },
   "outputs": [],
   "source": [
    "#Plot distribusi Pembatalan\n",
    "plt.figure(figsize = (8, 6))\n",
    "\n",
    "# plot KDE untuk hubungan umur pelanggan dengan variabel target\n",
    "sns.kdeplot(df_train.loc[df_train['Target'] == 1, 'Pembatalan_Sebulan_Terakhir'] , label = 'Target == 1')\n",
    "\n",
    "# KDE plot of loans which were not repaid on time\n",
    "sns.kdeplot(df_train.loc[df_train['Target'] == 2, 'Pembatalan_Sebulan_Terakhir'], label = 'Target == 2')\n",
    "\n",
    "# KDE plot of loans which were not repaid on time\n",
    "sns.kdeplot(df_train.loc[df_train['Target'] == 3, 'Pembatalan_Sebulan_Terakhir'], label = 'Target == 3')\n",
    "\n",
    "# Labeling of plot\n",
    "plt.xlabel('Pembatalan_Sebulan_Terakhir'); plt.ylabel('Kepadatan'); plt.title('Distribusi Pembatalan_Sebulan_Terakhir')\n",
    "\n",
    "plt.legend()\n",
    "plt.show()"
   ]
  },
  {
   "cell_type": "code",
   "execution_count": null,
   "metadata": {
    "colab": {
     "base_uri": "https://localhost:8080/",
     "height": 556
    },
    "id": "cpfjhS9ircV5",
    "outputId": "1e305ff0-3d2a-4636-e449-cfdd44194923"
   },
   "outputs": [],
   "source": [
    "#Plot distribusi fitur Gender.\n",
    "plt.subplot(1, 2, 1)\n",
    "sns.countplot(df_train['Gender'])\n",
    "plt.title(\"Distribusi Fitur Gender!\")\n",
    "\n",
    "plt.subplot(1,2,2)\n",
    "count = df_train['Gender'].value_counts()\n",
    "count.plot.pie(autopct = '%1.1f%%', figsize = (10,7),explode = [0,0.1],title = \"Persentase nilai pada fitur Gender\")\n",
    "\n",
    "plt.title('Persentase pada fitur Gender')\n",
    "plt.show()"
   ]
  },
  {
   "cell_type": "code",
   "execution_count": null,
   "metadata": {
    "colab": {
     "base_uri": "https://localhost:8080/",
     "height": 311
    },
    "id": "KPYnZ7HJ494r",
    "outputId": "3c4177a0-cc35-4c5d-8c88-8f278277e38c"
   },
   "outputs": [],
   "source": [
    "#Pengaruh fitur 'Gender' dengan variabel Target\n",
    "g = sns.catplot(x=\"Gender\", col=\"Target\",\n",
    "                data=df_train, kind=\"count\",\n",
    "                height=4, aspect=.7)\n",
    "\n",
    "\n",
    "plt.show()"
   ]
  },
  {
   "cell_type": "code",
   "execution_count": null,
   "metadata": {
    "colab": {
     "base_uri": "https://localhost:8080/"
    },
    "id": "0cbTmdSfrcw1",
    "outputId": "72df7e08-974a-400f-c375-257ae6e23aa9"
   },
   "outputs": [],
   "source": [
    "df_train['Tipe_Kendaraan'].value_counts()"
   ]
  },
  {
   "cell_type": "code",
   "execution_count": null,
   "metadata": {
    "colab": {
     "base_uri": "https://localhost:8080/",
     "height": 556
    },
    "id": "dJ4-YvDancmV",
    "outputId": "aad69149-0019-4bc6-c39f-f3c61c8635f1"
   },
   "outputs": [],
   "source": [
    "plt.subplot(1, 2, 1)\n",
    "sns.countplot(df_train['Tipe_Kendaraan'])\n",
    "plt.title(\"Distribusi fitur Tipe_Kendaraan!\")\n",
    "\n",
    "plt.subplot(1,2,2)\n",
    "count = df_train['Tipe_Kendaraan'].value_counts()\n",
    "count.plot.pie(autopct = '%1.1f%%', figsize = (10,7),explode = [0,0.1, 0.2, 0.3, 0.4, 0.5, 0.6, 0.7, 0.8, 0.9],title = \"pie chart persentase nilai pada fitur Izin Mengemudi\")\n",
    "\n",
    "plt.title('Persentase pada fitur Tipe_Kendaraan')\n",
    "plt.show()\n"
   ]
  },
  {
   "cell_type": "code",
   "execution_count": null,
   "metadata": {
    "colab": {
     "base_uri": "https://localhost:8080/",
     "height": 311
    },
    "id": "ninGLF_72qQE",
    "outputId": "cf0b6a23-1d15-4913-a3e4-76356639b1bd"
   },
   "outputs": [],
   "source": [
    "#Pengaruh fitur 'Izin_Mengemudi' dengan variabel Target\n",
    "g = sns.catplot(x=\"Tipe_Kendaraan\",col=\"Target\",\n",
    "                data=df_train, kind=\"count\",\n",
    "                height=4, aspect=.7)\n",
    "\n",
    "plt.show()"
   ]
  },
  {
   "cell_type": "code",
   "execution_count": null,
   "metadata": {
    "colab": {
     "base_uri": "https://localhost:8080/"
    },
    "id": "1pfmVgt-s1mf",
    "outputId": "2f7988c7-d31b-4408-941a-3867b103783a"
   },
   "outputs": [],
   "source": [
    "df_train['Pelanggan_Sejak_Bulan'].value_counts()"
   ]
  },
  {
   "cell_type": "code",
   "execution_count": null,
   "metadata": {
    "colab": {
     "base_uri": "https://localhost:8080/",
     "height": 343
    },
    "id": "rBcE9Rs88i2Z",
    "outputId": "cbbc2b32-b3b7-4810-81b6-8f18b76d3d81"
   },
   "outputs": [],
   "source": [
    "#Histogram fitur Biaya\n",
    "# Set the style of plots\n",
    "plt.style.use('fivethirtyeight')\n",
    "\n",
    "# Plot distribusi umur pelanggan\n",
    "plt.hist(df_train['Pelanggan_Sejak_Bulan'], edgecolor = 'k', bins = 25)\n",
    "plt.title('Pelanggan_Sejak_Bulan vs. Jumlah Pelanggan'); plt.xlabel('Jumlah Pelanggan_Sejak_Bulan'); plt.ylabel('Banyaknya pelanggan')"
   ]
  },
  {
   "cell_type": "code",
   "execution_count": null,
   "metadata": {
    "colab": {
     "base_uri": "https://localhost:8080/",
     "height": 442
    },
    "id": "V9VvvruIovSa",
    "outputId": "9e3f9285-87ad-47e9-a72a-5531a280d230"
   },
   "outputs": [],
   "source": [
    "#Plot distribusi Biaya\n",
    "plt.figure(figsize = (8, 6))\n",
    "\n",
    "# plot KDE untuk hubungan Biaya pelanggan dengan variabel target\n",
    "sns.kdeplot(df_train.loc[df_train['Target'] == 1, 'Pelanggan_Sejak_Bulan'] , label = 'Target == 1')\n",
    "\n",
    "# KDE plot of loans which were not repaid on time\n",
    "sns.kdeplot(df_train.loc[df_train['Target'] == 2, 'Pelanggan_Sejak_Bulan'], label = 'Target == 2')\n",
    "\n",
    "# KDE plot of loans which were not repaid on time\n",
    "sns.kdeplot(df_train.loc[df_train['Target'] == 3, 'Pelanggan_Sejak_Bulan'], label = 'Target == 3')\n",
    "\n",
    "# Labeling of plot\n",
    "plt.xlabel('Pelanggan_Sejak_Bulan'); plt.ylabel('Kepadatan'); plt.title('Distribusi jumlah Pelanggan_Sejak_Bulan')\n",
    "\n",
    "plt.legend()\n",
    "plt.show()"
   ]
  },
  {
   "cell_type": "code",
   "execution_count": null,
   "metadata": {
    "colab": {
     "base_uri": "https://localhost:8080/",
     "height": 343
    },
    "id": "dLuxVxmr-vMm",
    "outputId": "0ef2303b-086d-46f2-cf3b-31e454fb2148"
   },
   "outputs": [],
   "source": [
    "#Histogram fitur Kode Wilayah\n",
    "# Set the style of plots\n",
    "plt.style.use('fivethirtyeight')\n",
    "\n",
    "# Plot distribusi umur pelanggan\n",
    "plt.hist(df_train['Indeks_Gaya_Hidup'], edgecolor = 'k', bins = 25)\n",
    "plt.title('Distribusi Indeks_Gaya_Hidup'); plt.xlabel('Indeks_Gaya_Hidup'); plt.ylabel('Banyaknya pelanggan')"
   ]
  },
  {
   "cell_type": "code",
   "execution_count": null,
   "metadata": {
    "colab": {
     "base_uri": "https://localhost:8080/",
     "height": 442
    },
    "id": "djmYFkD9-9ce",
    "outputId": "e8aa7494-040a-4b15-db36-9e7569c2f3c8"
   },
   "outputs": [],
   "source": [
    "#Plot distribusi Kode Wilayah\n",
    "plt.figure(figsize = (8, 6))\n",
    "\n",
    "# plot KDE untuk hubungan Biaya pelanggan dengan variabel target\n",
    "sns.kdeplot(df_train.loc[df_train['Target'] == 1, 'Indeks_Gaya_Hidup'] , label = 'Target == 1')\n",
    "\n",
    "# KDE plot of loans which were not repaid on time\n",
    "sns.kdeplot(df_train.loc[df_train['Target'] == 2, 'Indeks_Gaya_Hidup'], label = 'Target == 2')\n",
    "\n",
    "# plot KDE untuk hubungan Biaya pelanggan dengan variabel target\n",
    "sns.kdeplot(df_train.loc[df_train['Target'] == 3, 'Indeks_Gaya_Hidup'] , label = 'Target == 3')\n",
    "\n",
    "# Labeling of plot\n",
    "plt.xlabel('Indeks_Gaya_Hidup'); plt.ylabel('Kepadatan'); plt.title('Distribusi Indeks_Gaya_Hidup pelanggan')\n",
    "\n",
    "plt.legend()\n",
    "plt.show()"
   ]
  },
  {
   "cell_type": "code",
   "execution_count": null,
   "metadata": {
    "colab": {
     "base_uri": "https://localhost:8080/",
     "height": 556
    },
    "id": "9igKAT1BDenq",
    "outputId": "25aacafe-0ea8-46ac-bdf3-7434872cd67e"
   },
   "outputs": [],
   "source": [
    "#Plot Tahun Kendaraan\n",
    "plt.subplot(1, 2, 1)\n",
    "sns.countplot(df_train['Tipe_Tujuan'])\n",
    "plt.title(\"Distribusi fitur Tipe_Tujuan!\")\n",
    "\n",
    "plt.subplot(1,2,2)\n",
    "count = df_train['Tipe_Tujuan'].value_counts()\n",
    "count.plot.pie(autopct = '%1.1f%%', figsize = (10,7),title = \"pie chart persentase nilai pada fitur Tipe_Tujuan\")\n",
    "\n",
    "plt.title('Persentase pada fitur Tipe_Tujuan')\n",
    "plt.show()"
   ]
  },
  {
   "cell_type": "code",
   "execution_count": null,
   "metadata": {
    "colab": {
     "base_uri": "https://localhost:8080/",
     "height": 311
    },
    "id": "kBjUbu6sWxLQ",
    "outputId": "0ebe1a79-241c-4278-dc88-76abfbbcc29d"
   },
   "outputs": [],
   "source": [
    "#Pengaruh fitur 'Tahun_Kendaraan' dengan variabel Target\n",
    "g = sns.catplot(x=\"Tipe_Tujuan\",col=\"Target\",\n",
    "                data=df_train, kind=\"count\",\n",
    "                height=4, ci = None)"
   ]
  },
  {
   "cell_type": "code",
   "execution_count": null,
   "metadata": {
    "colab": {
     "base_uri": "https://localhost:8080/",
     "height": 343
    },
    "id": "gAUi9F7Z2OKa",
    "outputId": "bb56bbe3-9088-47db-b845-a45986c9abf1"
   },
   "outputs": [],
   "source": [
    "#Histogram fitur Rating Pelanggan\n",
    "# Set the style of plots\n",
    "plt.style.use('fivethirtyeight')\n",
    "\n",
    "# Plot distribusi rating pelanggan\n",
    "plt.hist(df_train['Rating_Pelanggan'], edgecolor = 'k', bins = 25)\n",
    "plt.title('Rating_Pelanggan vs. Jumlah Pelanggan'); plt.xlabel('Rating_Pelanggan'); plt.ylabel('Banyaknya pelanggan')"
   ]
  },
  {
   "cell_type": "code",
   "execution_count": null,
   "metadata": {
    "colab": {
     "base_uri": "https://localhost:8080/"
    },
    "id": "MnV-qioE29nv",
    "outputId": "bb38554e-7429-43c1-a3f3-1f8f0a8f9c57"
   },
   "outputs": [],
   "source": [
    "df_train.Rating_Pelanggan.max()"
   ]
  },
  {
   "cell_type": "code",
   "execution_count": null,
   "metadata": {
    "colab": {
     "base_uri": "https://localhost:8080/",
     "height": 442
    },
    "id": "JnWX8kVA2mtY",
    "outputId": "ba69cfc3-2444-4fb0-fbda-6a5f1fe1507b"
   },
   "outputs": [],
   "source": [
    "#Plot distribusi rating pelanggan\n",
    "plt.figure(figsize = (8, 6))\n",
    "\n",
    "# plot KDE untuk hubungan Biaya pelanggan dengan variabel target\n",
    "sns.kdeplot(df_train.loc[df_train['Target'] == 1, 'Rating_Pelanggan'] , label = 'Target == 1')\n",
    "\n",
    "# KDE plot of loans which were not repaid on time\n",
    "sns.kdeplot(df_train.loc[df_train['Target'] == 2, 'Rating_Pelanggan'], label = 'Target == 2')\n",
    "\n",
    "# KDE plot of loans which were not repaid on time\n",
    "sns.kdeplot(df_train.loc[df_train['Target'] == 3, 'Rating_Pelanggan'], label = 'Target == 3')\n",
    "\n",
    "# Labeling of plot\n",
    "plt.xlabel('Rating_Pelanggan'); plt.ylabel('Kepadatan'); plt.title('Distribusi Rating_Pelanggan')\n",
    "\n",
    "plt.legend()\n",
    "plt.show()"
   ]
  },
  {
   "cell_type": "code",
   "execution_count": null,
   "metadata": {
    "colab": {
     "base_uri": "https://localhost:8080/",
     "height": 343
    },
    "id": "KZERGjcb4Qhb",
    "outputId": "f5042920-7e98-4ba3-f2cf-19b3fbba1034"
   },
   "outputs": [],
   "source": [
    "#Histogram fitur Encode_1\n",
    "# Set the style of plots\n",
    "plt.style.use('fivethirtyeight')\n",
    "\n",
    "# Plot distribusi rating pelanggan\n",
    "plt.hist(df_train['Encode_1'], edgecolor = 'k', bins = 25)\n",
    "plt.title('Banyaknya_Pelanggan vs. Encode_1'); plt.xlabel('Encode_1'); plt.ylabel('Banyaknya pelanggan')"
   ]
  },
  {
   "cell_type": "code",
   "execution_count": null,
   "metadata": {
    "colab": {
     "base_uri": "https://localhost:8080/",
     "height": 442
    },
    "id": "EI-0PC5958UF",
    "outputId": "bf0343cf-99e1-4b10-e4ec-10b87720a6f4"
   },
   "outputs": [],
   "source": [
    "#Plot distribusi Encode_1\n",
    "plt.figure(figsize = (8, 6))\n",
    "\n",
    "# plot KDE untuk hubungan Encode_1 dengan variabel target\n",
    "sns.kdeplot(df_train.loc[df_train['Target'] == 1, 'Encode_1'] , label = 'Target == 1')\n",
    "\n",
    "# KDE plot of loans which were not repaid on time\n",
    "sns.kdeplot(df_train.loc[df_train['Target'] == 2, 'Encode_1'], label = 'Target == 2')\n",
    "\n",
    "# KDE plot of loans which were not repaid on time\n",
    "sns.kdeplot(df_train.loc[df_train['Target'] == 3, 'Encode_1'], label = 'Target == 3')\n",
    "\n",
    "# Labeling of plot\n",
    "plt.xlabel('Encode_1'); plt.ylabel('Kepadatan'); plt.title('Distribusi Encode_1')\n",
    "\n",
    "plt.legend()\n",
    "plt.show()"
   ]
  },
  {
   "cell_type": "code",
   "execution_count": null,
   "metadata": {
    "colab": {
     "base_uri": "https://localhost:8080/",
     "height": 343
    },
    "id": "V4jCq_JY6Wwf",
    "outputId": "db51fe1e-1034-4bcc-a1b6-52873a3d7aa0"
   },
   "outputs": [],
   "source": [
    "#Histogram fitur Encode_2\n",
    "# Set the style of plots\n",
    "plt.style.use('fivethirtyeight')\n",
    "\n",
    "# Plot distribusi rating pelanggan\n",
    "plt.hist(df_train['Encode_2'], edgecolor = 'k', bins = 25)\n",
    "plt.title('Banyaknya_Pelanggan vs. Encode_2'); plt.xlabel('Encode_2'); plt.ylabel('Banyaknya pelanggan')"
   ]
  },
  {
   "cell_type": "code",
   "execution_count": null,
   "metadata": {
    "colab": {
     "base_uri": "https://localhost:8080/",
     "height": 442
    },
    "id": "GwAIu3We7Gm2",
    "outputId": "3d457f54-d4c8-41fd-ba12-bb0662c3ba76"
   },
   "outputs": [],
   "source": [
    "#Plot distribusi Encode_2\n",
    "plt.figure(figsize = (8, 6))\n",
    "\n",
    "# plot KDE untuk hubungan Encode_1 dengan variabel target\n",
    "sns.kdeplot(df_train.loc[df_train['Target'] == 1, 'Encode_2'] , label = 'Target == 1')\n",
    "\n",
    "# KDE plot of loans which were not repaid on time\n",
    "sns.kdeplot(df_train.loc[df_train['Target'] == 2, 'Encode_2'], label = 'Target == 2')\n",
    "\n",
    "# KDE plot of loans which were not repaid on time\n",
    "sns.kdeplot(df_train.loc[df_train['Target'] == 3, 'Encode_2'], label = 'Target == 3')\n",
    "\n",
    "# Labeling of plot\n",
    "plt.xlabel('Encode_2'); plt.ylabel('Kepadatan'); plt.title('Distribusi Encode_2')\n",
    "\n",
    "plt.legend()\n",
    "plt.show()"
   ]
  },
  {
   "cell_type": "code",
   "execution_count": null,
   "metadata": {
    "colab": {
     "base_uri": "https://localhost:8080/",
     "height": 343
    },
    "id": "_v28Kx0q7PrQ",
    "outputId": "827ed59d-c1d9-42bb-ecfb-8dab22f22a02"
   },
   "outputs": [],
   "source": [
    "#Histogram fitur Encode_3\n",
    "# Set the style of plots\n",
    "plt.style.use('fivethirtyeight')\n",
    "\n",
    "# Plot distribusi rating pelanggan\n",
    "plt.hist(df_train['Encode_3'], edgecolor = 'k', bins = 25)\n",
    "plt.title('Banyaknya_Pelanggan vs. Encode_3'); plt.xlabel('Encode_3'); plt.ylabel('Banyaknya pelanggan')"
   ]
  },
  {
   "cell_type": "code",
   "execution_count": null,
   "metadata": {
    "colab": {
     "base_uri": "https://localhost:8080/",
     "height": 442
    },
    "id": "BeQAsbWz7Vk_",
    "outputId": "ff78ad8c-9a3d-4603-f36e-20017b514ce7"
   },
   "outputs": [],
   "source": [
    "#Plot distribusi Encode_3\n",
    "plt.figure(figsize = (8, 6))\n",
    "\n",
    "# plot KDE untuk hubungan Encode_1 dengan variabel target\n",
    "sns.kdeplot(df_train.loc[df_train['Target'] == 1, 'Encode_3'] , label = 'Target == 1')\n",
    "\n",
    "# KDE plot of loans which were not repaid on time\n",
    "sns.kdeplot(df_train.loc[df_train['Target'] == 2, 'Encode_3'], label = 'Target == 2')\n",
    "\n",
    "# KDE plot of loans which were not repaid on time\n",
    "sns.kdeplot(df_train.loc[df_train['Target'] == 3, 'Encode_3'], label = 'Target == 3')\n",
    "\n",
    "# Labeling of plot\n",
    "plt.xlabel('Encode_3'); plt.ylabel('Kepadatan'); plt.title('Distribusi Encode_3')\n",
    "\n",
    "plt.legend()\n",
    "plt.show()"
   ]
  },
  {
   "cell_type": "markdown",
   "metadata": {
    "id": "ITmxpsT6vZcP"
   },
   "source": [
    "## Isi Missing values!"
   ]
  },
  {
   "cell_type": "code",
   "execution_count": null,
   "metadata": {
    "colab": {
     "base_uri": "https://localhost:8080/",
     "height": 35
    },
    "id": "YMuB4Ya6xNKK",
    "outputId": "e461ec9c-7199-4b2b-927d-2d49734a6384"
   },
   "outputs": [],
   "source": [
    "df_train.groupby(['Target'])['Tipe_Kendaraan'].agg(pd.Series.mode)[0]"
   ]
  },
  {
   "cell_type": "code",
   "execution_count": null,
   "metadata": {
    "id": "-nq4NbRhfFiB"
   },
   "outputs": [],
   "source": [
    "#Imputasi modus pada variabel-variabel tipe data object! (Training data)\n",
    "df_train['Gender'].fillna(df_train['Gender'].mode()[0], inplace=True)\n",
    "# tipe_kendaraan = df_train.groupby(['Target'])['Tipe_Kendaraan'].mode()\n",
    "df_train['Tipe_Kendaraan']=df_train['Tipe_Kendaraan'].fillna(pd.Series(np.where(df_train['Target'] ==1, \"A\", np.where(df_train['Target']==2, \"B\",\"D\"))))\n",
    "df_train[\"Tipe_Tujuan\"].replace(\"-\",np.nan)\n",
    "df_train['Tipe_Tujuan'].fillna(df_train['Tipe_Tujuan'].mode()[0], inplace=True)\n",
    "\n",
    "\n",
    "#Imputasi modus pada variabel-variabel tipe data object! (Testing data)\n",
    "df_test['Gender'].fillna(df_train['Gender'].mode()[0], inplace=True)\n",
    "# tipe_kendaraan = df_train.groupby(['Target'])['Tipe_Kendaraan'].mode()\n",
    "df_test['Tipe_Kendaraan']=df_test['Tipe_Kendaraan'].fillna(pd.Series(np.where(df_train['Target'] ==1, \"A\", np.where(df_train['Target']==2, \"B\",\"D\"))))\n",
    "df_test[\"Tipe_Tujuan\"].replace(\"-\",np.nan)\n",
    "df_test['Tipe_Tujuan'].fillna(df_train['Tipe_Tujuan'].mode()[0], inplace=True)"
   ]
  },
  {
   "cell_type": "markdown",
   "metadata": {
    "id": "3CIUmEwTyefA"
   },
   "source": [
    "#### Imputasi Tipe Data Numerik"
   ]
  },
  {
   "cell_type": "code",
   "execution_count": null,
   "metadata": {
    "id": "V3tfQcqgybI_"
   },
   "outputs": [],
   "source": [
    "df_train['Jarak_Perjalanan'].fillna(df_train['Jarak_Perjalanan'].mean(), inplace=True)\n",
    "df_test['Jarak_Perjalanan'].fillna(df_train['Jarak_Perjalanan'].mean(), inplace=True)\n",
    "\n",
    "df_train['Pelanggan_Sejak_Bulan'].fillna(df_train['Pelanggan_Sejak_Bulan'].mode()[0], inplace=True)\n",
    "df_test['Pelanggan_Sejak_Bulan'].fillna(df_train['Pelanggan_Sejak_Bulan'].mode()[0], inplace=True)\n",
    "\n",
    "df_train['Indeks_Gaya_Hidup'].fillna(np.int(df_train['Indeks_Gaya_Hidup'].mean()), inplace=True)\n",
    "df_test['Indeks_Gaya_Hidup'].fillna(np.int(df_train['Indeks_Gaya_Hidup'].mean()), inplace=True)\n",
    "\n",
    "df_train['Rating_Pelanggan']=df_train['Rating_Pelanggan'].apply(lambda x: 5 if x>=5 else x)\n",
    "df_test['Rating_Pelanggan']=df_test['Rating_Pelanggan'].apply(lambda x: 5 if x>=5 else x)\n",
    "df_train['Rating_Pelanggan'].fillna(df_train['Rating_Pelanggan'].median(), inplace=True)\n",
    "df_test['Rating_Pelanggan'].fillna(df_train['Rating_Pelanggan'].median(), inplace=True)\n",
    "\n",
    "df_train['Pembatalan_Sebulan_Terakhir'].fillna(df_train['Pembatalan_Sebulan_Terakhir'].median(), inplace=True)\n",
    "df_test['Pembatalan_Sebulan_Terakhir'].fillna(df_train['Pembatalan_Sebulan_Terakhir'].median(), inplace=True)\n",
    "\n",
    "df_train['Encode_1'].fillna(df_train['Encode_1'].mean(), inplace=True)\n",
    "df_test['Encode_1'].fillna(df_train['Encode_1'].mean(), inplace=True)\n",
    "\n",
    "df_train['Encode_2'].fillna(df_train['Encode_2'].mean(), inplace=True)\n",
    "df_test['Encode_2'].fillna(df_train['Encode_2'].mean(), inplace=True)\n",
    "\n",
    "df_train['Encode_3'].fillna(df_train['Encode_3'].mean(), inplace=True)\n",
    "df_test['Encode_3'].fillna(df_train['Encode_3'].mean(), inplace=True)"
   ]
  },
  {
   "cell_type": "markdown",
   "metadata": {
    "id": "1Dx5kTkd7v9-"
   },
   "source": [
    "## Heatmap Korelasi!"
   ]
  },
  {
   "cell_type": "code",
   "execution_count": null,
   "metadata": {
    "colab": {
     "base_uri": "https://localhost:8080/",
     "height": 851
    },
    "id": "IfmDmnwv7vA9",
    "outputId": "9d3453c8-d29f-476d-9107-13d813cd052a"
   },
   "outputs": [],
   "source": [
    "#Visualisasi nilai-nilai korelasi!\n",
    "corr = df_train.corr() \n",
    "plt.figure(figsize=(12, 10))\n",
    "sns.heatmap(corr[(corr >= 0.1) | (corr <= -0.1)], \n",
    "            cmap='viridis', vmax=1.0, vmin=-1.0, linewidths=0.1,\n",
    "            annot=True, annot_kws={\"size\": 14}, square=True)"
   ]
  },
  {
   "cell_type": "code",
   "execution_count": null,
   "metadata": {},
   "outputs": [],
   "source": [
    "df_train['Encode_23'] = df_train['Encode_2']*df_train['Encode_3']"
   ]
  },
  {
   "cell_type": "markdown",
   "metadata": {
    "id": "ZMKhlxU68A3w"
   },
   "source": [
    "## Modelling!"
   ]
  },
  {
   "cell_type": "code",
   "execution_count": null,
   "metadata": {
    "id": "m5V-XyTF8DCp"
   },
   "outputs": [],
   "source": [
    "df_train_target = df_train.Target\n",
    "\n",
    "df_train.drop('Target', axis = 1, inplace=True)"
   ]
  },
  {
   "cell_type": "code",
   "execution_count": null,
   "metadata": {
    "id": "nAn0SSiC8LOF"
   },
   "outputs": [],
   "source": [
    "test_id = df_test['ID']\n",
    "df_train.drop(['ID'], axis=1, inplace=True)\n",
    "df_test.drop(['ID'], axis=1, inplace=True)"
   ]
  },
  {
   "cell_type": "code",
   "execution_count": null,
   "metadata": {
    "id": "ZQ4Xq-hP9SRK"
   },
   "outputs": [],
   "source": [
    "df_train2 = pd.get_dummies(df_train)\n",
    "df_test2 = pd.get_dummies(df_test)"
   ]
  },
  {
   "cell_type": "code",
   "execution_count": null,
   "metadata": {},
   "outputs": [],
   "source": [
    "from sklearn.preprocessing import StandardScaler\n",
    "scaler = StandardScaler()\n",
    "scaler.fit(df_train2[['Encode_1', 'Encode_2', 'Encode_3',\"Jarak_Perjalanan\"]])\n",
    "\n",
    "scaler.transform(df_train2[['Encode_1', 'Encode_2', 'Encode_3',\"Jarak_Perjalanan\"]])\n",
    "scaler.transform(df_test2[['Encode_1', 'Encode_2', 'Encode_3',\"Jarak_Perjalanan\"]])"
   ]
  },
  {
   "cell_type": "code",
   "execution_count": null,
   "metadata": {
    "id": "Rg26Ceec97r6"
   },
   "outputs": [],
   "source": [
    "#Train test split\n",
    "from sklearn.model_selection import train_test_split\n",
    "X_train, X_test, y_train, y_test = train_test_split(df_train2, df_train_target, test_size=0.2, random_state=42, shuffle=True)"
   ]
  },
  {
   "cell_type": "code",
   "execution_count": null,
   "metadata": {
    "id": "OjhQQu6i_TBb"
   },
   "outputs": [],
   "source": [
    "from sklearn.metrics import accuracy_score"
   ]
  },
  {
   "cell_type": "code",
   "execution_count": null,
   "metadata": {
    "colab": {
     "base_uri": "https://localhost:8080/"
    },
    "id": "S62bHaBq-H3I",
    "outputId": "c9528568-2a88-4c6e-c469-41c6f8e8fa1d"
   },
   "outputs": [],
   "source": [
    "# from sklearn.linear_model import LogisticRegression\n",
    "# logreg = LogisticRegression(max_iter=1000, multi_class=\"multinomial\", solver=\"sag\")\n",
    "# logreg.fit(X_train, y_train)\n",
    "\n",
    "# y_pred = logreg.predict(X_test)\n",
    "# accuracy_score(y_test, y_pred)"
   ]
  },
  {
   "cell_type": "code",
   "execution_count": null,
   "metadata": {
    "colab": {
     "base_uri": "https://localhost:8080/"
    },
    "id": "X6c1Ua5V_8KW",
    "outputId": "0a81de91-57aa-4ae4-c4de-bb8befe6b1bb"
   },
   "outputs": [],
   "source": [
    "from sklearn.tree import DecisionTreeClassifier\n",
    "dec_tree = DecisionTreeClassifier(criterion=\"gini\", max_depth=8)\n",
    "dec_tree.fit(X_train, y_train)\n",
    "\n",
    "y_pred = dec_tree.predict(X_test)\n",
    "accuracy_score(y_test, y_pred)"
   ]
  },
  {
   "cell_type": "code",
   "execution_count": null,
   "metadata": {
    "id": "awCyrCXoAXUs"
   },
   "outputs": [],
   "source": [
    "from sklearn.ensemble import RandomForestClassifier\n",
    "r_forest=RandomForestClassifier(max_depth=22, warm_start=True)\n",
    "r_forest.fit(X_train,y_train)\n",
    "\n",
    "y_pred = r_forest.predict(X_test)\n",
    "accuracy_score(y_test, y_pred)"
   ]
  },
  {
   "cell_type": "code",
   "execution_count": null,
   "metadata": {
    "id": "3Q3OklGqAhSF"
   },
   "outputs": [],
   "source": [
    "# from sklearn.ensemble import GradientBoostingClassifier\n",
    "# gboost=GradientBoostingClassifier(learning_rate=0.2)\n",
    "# gboost.fit(X_train, y_train)\n",
    "\n",
    "# y_pred = gboost.predict(X_test)\n",
    "# accuracy_score(y_test, y_pred)"
   ]
  },
  {
   "cell_type": "code",
   "execution_count": null,
   "metadata": {
    "id": "fPkbWnkgA4rX"
   },
   "outputs": [],
   "source": [
    "predict=r_forest.predict(df_test2)"
   ]
  },
  {
   "cell_type": "code",
   "execution_count": null,
   "metadata": {
    "id": "RWnbvAmZBs5l"
   },
   "outputs": [],
   "source": [
    "df_test2.head()"
   ]
  },
  {
   "cell_type": "code",
   "execution_count": null,
   "metadata": {
    "id": "Fxcm8SUbA8Aa"
   },
   "outputs": [],
   "source": [
    "submission = pd.DataFrame({'id':test_id,'Target':predict})\n",
    "\n",
    "#Visualize the first 5 rows\n",
    "submission.head()"
   ]
  },
  {
   "cell_type": "code",
   "execution_count": null,
   "metadata": {
    "id": "PInrRtcwBAnE"
   },
   "outputs": [],
   "source": [
    "# Save the submission dataframe\n",
    "submission.to_csv('C:/Users/Stanley Pratama/Documents/final-data-mining-competition-joints-2021/submitfinal4.csv', index = False)"
   ]
  },
  {
   "cell_type": "code",
   "execution_count": null,
   "metadata": {},
   "outputs": [],
   "source": []
  }
 ],
 "metadata": {
  "colab": {
   "name": "JokiFast Lomba_Final",
   "provenance": []
  },
  "kernelspec": {
   "display_name": "Python 3",
   "language": "python",
   "name": "python3"
  },
  "language_info": {
   "codemirror_mode": {
    "name": "ipython",
    "version": 3
   },
   "file_extension": ".py",
   "mimetype": "text/x-python",
   "name": "python",
   "nbconvert_exporter": "python",
   "pygments_lexer": "ipython3",
   "version": "3.8.3"
  }
 },
 "nbformat": 4,
 "nbformat_minor": 4
}
